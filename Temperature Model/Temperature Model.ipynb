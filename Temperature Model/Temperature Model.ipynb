{
 "metadata": {
  "name": "",
  "signature": "sha256:900fbdca1bf8c5da4f1f8855cfa6a442b6deb4efc8f157fc58836a607935703f"
 },
 "nbformat": 3,
 "nbformat_minor": 0,
 "worksheets": []
}