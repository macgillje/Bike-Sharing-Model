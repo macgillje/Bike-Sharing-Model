{
 "metadata": {
  "name": "",
  "signature": "sha256:51b768db87ff6b700ae9320b5e1f170471fafc93dbd95f8288cf598ebd126a02"
 },
 "nbformat": 3,
 "nbformat_minor": 0,
 "worksheets": [
  {
   "cells": [
    {
     "cell_type": "code",
     "collapsed": false,
     "input": [
      "import pandas as pd\n",
      "import csv as csv\n",
      "import numpy as np\n",
      "import math as math"
     ],
     "language": "python",
     "metadata": {},
     "outputs": [],
     "prompt_number": 76
    },
    {
     "cell_type": "code",
     "collapsed": false,
     "input": [
      "df_train = pd.read_csv('../Data/train.csv', header=0)\n",
      "\n",
      "seasons = 4"
     ],
     "language": "python",
     "metadata": {},
     "outputs": [],
     "prompt_number": 77
    },
    {
     "cell_type": "code",
     "collapsed": false,
     "input": [
      "survival_table = np.zeros([1, seasons], float)\n",
      "\n",
      "for i in xrange(seasons):\n",
      "    biker_rate = sum(df_train.loc[(df_train.season == i+1, 'count')])/len(df_train[(df_train.season == i+1)])\n",
      "    survival_table[0, i] = biker_rate\n",
      "    \n",
      "print survival_table"
     ],
     "language": "python",
     "metadata": {},
     "outputs": [
      {
       "output_type": "stream",
       "stream": "stdout",
       "text": [
        "[[ 116.  215.  234.  198.]]\n"
       ]
      }
     ],
     "prompt_number": 78
    },
    {
     "cell_type": "code",
     "collapsed": false,
     "input": [
      "test_file = open('../Data/test.csv', 'rb')\n",
      "test_file_object = csv.reader(test_file)\n",
      "header = test_file_object.next()"
     ],
     "language": "python",
     "metadata": {},
     "outputs": [],
     "prompt_number": 79
    },
    {
     "cell_type": "code",
     "collapsed": false,
     "input": [
      "predictions_file = open(\"output_season.csv\", \"wb\")\n",
      "predictions_file_object = csv.writer(predictions_file)\n",
      "predictions_file_object.writerow([\"datetime\", \"count\"])"
     ],
     "language": "python",
     "metadata": {},
     "outputs": [],
     "prompt_number": 80
    },
    {
     "cell_type": "code",
     "collapsed": false,
     "input": [
      "for row in test_file_object:\n",
      "    predictions_file_object.writerow([row[0], survival_table[0, float(row[1]) - 1]])"
     ],
     "language": "python",
     "metadata": {},
     "outputs": [],
     "prompt_number": 81
    },
    {
     "cell_type": "code",
     "collapsed": false,
     "input": [],
     "language": "python",
     "metadata": {},
     "outputs": []
    }
   ],
   "metadata": {}
  }
 ]
}